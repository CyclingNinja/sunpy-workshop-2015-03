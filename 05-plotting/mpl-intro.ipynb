{
 "cells": [
  {
   "cell_type": "markdown",
   "metadata": {},
   "source": [
    "#Introduction to Matplotlib\n",
    "Matplotlib is a python 2D plotting library. It is capable of immensely detailed and rendered figures. Its self proffessed goal is to make the esy things easy and the hard things possible.\n",
    "\n",
    "##Objectives\n",
    "\n",
    "* Create a figure\n",
    "* Creating Subplots within your figures\n",
    "* Be able to plot basic line and bar plots\n",
    "* Prettyfy your graphs\n",
    "\n",
    "\n",
    "##Importing matplotlib\n",
    "As we covered yesterday we can import packages to increase the power of Python tenfold in the case of matplot lib we specifically need the pyplot module of matplotlib. We will also need numpy so import that too."
   ]
  },
  {
   "cell_type": "code",
   "execution_count": null,
   "metadata": {
    "collapsed": true
   },
   "outputs": [],
   "source": [
    "import matplotlib.pyplot as plt\n",
    "import numpy as np"
   ]
  },
  {
   "cell_type": "markdown",
   "metadata": {},
   "source": [
    "Importing the package as plt is a time saver, it allows us to use matplotlib quickly and efficiently.\n",
    "\n",
    "##Figures and subplots\n",
    "The figure is the enviroment in which you create your plots. Within this figure you create subplots in which to plot your data. Lets begin with figure.\n",
    "\n",
    "`figure()` doesn't require any key word arguments. But you can define the size (fisize = (width, height)), resolution (dpi = integer) and the face and egde colours.\n",
    "\n",
    "`show()` will then display what is currently in the figure"
   ]
  },
  {
   "cell_type": "code",
   "execution_count": null,
   "metadata": {
    "collapsed": false
   },
   "outputs": [],
   "source": [
    "fig = plt.figure()\n",
    "plt.show()"
   ]
  },
  {
   "cell_type": "markdown",
   "metadata": {},
   "source": [
    "Then we can colour it in"
   ]
  },
  {
   "cell_type": "code",
   "execution_count": null,
   "metadata": {
    "collapsed": false
   },
   "outputs": [],
   "source": [
    "fig = plt.figure(facecolor='black', edgecolor='yellow')\n",
    "plt.show()"
   ]
  },
  {
   "cell_type": "markdown",
   "metadata": {},
   "source": [
    "Subplots are created within the figure and is where yon axis is located. `subplot()` takes 3 arguments, numRows - number of rows of subplot, numCols - number of subplots in each row, plotNum - position of this subplot counting columns then rows.\n",
    "\n",
    "It also takes 3 keyword agruments (kwargs); axisbg = 'color' - sets the background colour of the subplot, polar = [True/False], projection = 'name' - changes the subplot to the named projection eg '3d'"
   ]
  },
  {
   "cell_type": "code",
   "execution_count": null,
   "metadata": {
    "collapsed": true
   },
   "outputs": [],
   "source": [
    "fig1 = plt.figure()\n",
    "ax1 = plt.subplot(211, axisbg = 'r')\n",
    "ax2 = plt.subplot(212, axisbg = 'y')\n",
    "plt.show()"
   ]
  },
  {
   "cell_type": "markdown",
   "metadata": {},
   "source": [
    "Using some of the funky projections"
   ]
  },
  {
   "cell_type": "code",
   "execution_count": null,
   "metadata": {
    "collapsed": false
   },
   "outputs": [],
   "source": [
    "fig2 = plt.figure()\n",
    "ax1 = plt.subplot(221)\n",
    "ax2 = plt.subplot(222, projection = '3D')\n",
    "ax3 = plt.subplot(223, polar = True)\n",
    "ax4 = plt.subplot(224)\n",
    "plt.show()"
   ]
  },
  {
   "cell_type": "markdown",
   "metadata": {},
   "source": [
    "##Plotting\n",
    "The simplest form of plotting is plot(), which draws a line, or set of markers, through the given data set. So lets get started with a basic line graph"
   ]
  },
  {
   "cell_type": "code",
   "execution_count": null,
   "metadata": {
    "collapsed": false
   },
   "outputs": [],
   "source": [
    "points = ('24599742')\n",
    "point_list = map(float,list(points))\n",
    "fig3 = plt.figure()\n",
    "plt.plot(point_list)\n",
    "plt.show()\n",
    "print point_list"
   ]
  },
  {
   "cell_type": "markdown",
   "metadata": {},
   "source": [
    "Now lets have a look at bar graphs, they are somewhat more involved. We need to define the number of bars, how wide they are and the data itself, obviously.\n",
    "The indices can be calculated using the length of our data set, the width we can arbitrarily define and we will use the points from the line graph"
   ]
  },
  {
   "cell_type": "code",
   "execution_count": null,
   "metadata": {
    "collapsed": false
   },
   "outputs": [],
   "source": [
    "fig4 = plt.figure()\n",
    "ind = np.arange(len(point_list))\n",
    "width = 0.5\n",
    "plt.bar(ind, point_list, width)\n",
    "plt.show()"
   ]
  },
  {
   "cell_type": "markdown",
   "metadata": {},
   "source": [
    "###Overplotting\n",
    "We can mash things on top each other on the same axes, merely plot within the same figure. We can also improve the attractiveness with labels."
   ]
  },
  {
   "cell_type": "code",
   "execution_count": null,
   "metadata": {
    "collapsed": true
   },
   "outputs": [],
   "source": [
    "fig5 = plt.figure()\n",
    "plt.bar(ind,point_list, width, )\n",
    "plt.plot(point_list)\n",
    "plt.title('Bars and Lines')\n",
    "plt.xlabel('Positions')\n",
    "plt.ylabel('Counts')\n",
    "plt.show()"
   ]
  },
  {
   "cell_type": "markdown",
   "metadata": {
    "collapsed": true
   },
   "source": [
    "###Plotting some lines\n",
    "Now lets plot some maths and mess around with the lines.\n",
    "Lets define some lines first"
   ]
  },
  {
   "cell_type": "code",
   "execution_count": null,
   "metadata": {
    "collapsed": true
   },
   "outputs": [],
   "source": [
    "x = range(-10,10,1)\n",
    "x2, x3 = [val**2 for val in x], [val**3 for val in x]"
   ]
  },
  {
   "cell_type": "markdown",
   "metadata": {},
   "source": [
    "##IMshow and IMread\n",
    "Reading in an image is an essential part of our craft. The file must be a png for this to work."
   ]
  },
  {
   "cell_type": "markdown",
   "metadata": {},
   "source": [
    "##Animations\n",
    "You can animate your graphs. First things first, we need to import Animate."
   ]
  },
  {
   "cell_type": "code",
   "execution_count": null,
   "metadata": {
    "collapsed": true
   },
   "outputs": [],
   "source": [
    "import matplotlib.animation as an"
   ]
  }
 ],
 "metadata": {
  "kernelspec": {
   "display_name": "Python 2",
   "language": "python",
   "name": "python2"
  },
  "language_info": {
   "codemirror_mode": {
    "name": "ipython",
    "version": 2
   },
   "file_extension": ".py",
   "mimetype": "text/x-python",
   "name": "python",
   "nbconvert_exporter": "python",
   "pygments_lexer": "ipython2",
   "version": "2.7.8"
  }
 },
 "nbformat": 4,
 "nbformat_minor": 0
}
