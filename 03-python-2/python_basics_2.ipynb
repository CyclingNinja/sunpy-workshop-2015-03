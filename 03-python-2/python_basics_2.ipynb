{
 "metadata": {
  "name": "",
  "signature": "sha256:f54cf97efbcba8a8a645999449f37b34b044ea4364620201cae2a653cac1a05b"
 },
 "nbformat": 3,
 "nbformat_minor": 0,
 "worksheets": [
  {
   "cells": [
    {
     "cell_type": "heading",
     "level": 1,
     "metadata": {},
     "source": [
      "Python basics 2"
     ]
    },
    {
     "cell_type": "heading",
     "level": 2,
     "metadata": {},
     "source": [
      "Functions"
     ]
    },
    {
     "cell_type": "heading",
     "level": 3,
     "metadata": {},
     "source": [
      "Objectives"
     ]
    },
    {
     "cell_type": "markdown",
     "metadata": {},
     "source": [
      "- Define a function that takes some input\n",
      "- Return a value from a function\n",
      "- Set default values for function parameters"
     ]
    },
    {
     "cell_type": "markdown",
     "metadata": {},
     "source": [
      "Functions in Python serve very much the same purpose as in other programming languages, allowing you to tidy up your code and repeat parts of it as necessary. Unlike some other languages though, Python only has one kind of function structure. There are no subroutines or procedures - functions serve in place of both of these."
     ]
    },
    {
     "cell_type": "heading",
     "level": 3,
     "metadata": {},
     "source": [
      "Definition"
     ]
    },
    {
     "cell_type": "markdown",
     "metadata": {},
     "source": [
      "A function definition in Python has four parts: \n",
      "- definition of the function name and arguments\n",
      "- a docstring - optional, but strongly recommended!\n",
      "- function contents\n",
      "- `return` statement - also optional, but necessary for the function to give output\n",
      "\n",
      "These components are arranged in a very similar way to loops and if statements."
     ]
    },
    {
     "cell_type": "code",
     "collapsed": false,
     "input": [
      "def function_name(arg1, arg2, arg3): # Function name and argument(s) definition. Note the colon.\n",
      "    \"\"\"Optional docstring.\n",
      "    This should describe what the function does and what the input should be.\n",
      "    This string will be displayed when you call help(function_name) and in some  help interfaces.\"\"\"\n",
      "    \n",
      "    # Function contents.\n",
      "    # Just the code that does what you want the function to do.\n",
      "    # Note the indentation, as with loops and ifs.\n",
      "    \n",
      "    return # Optional return statement."
     ],
     "language": "python",
     "metadata": {},
     "outputs": []
    },
    {
     "cell_type": "markdown",
     "metadata": {},
     "source": [
      "If the return statement is omitted, or is present but with no variables, the output of the function is None. Otherwise, it exits the function immediately and returns returns any variables given to the main code.\n",
      "\n",
      "Since output from the function is dealt with by the return statement, arguments only need to specify input. Functions can have any number of arguments, including none."
     ]
    },
    {
     "cell_type": "code",
     "collapsed": false,
     "input": [
      "# Define an example function which returns the square of 5 and takes no input.\n",
      "def square_five():\n",
      "    \"\"\"A simple example function to square the number five\"\"\"\n",
      "    five_squared = 5 ** 2\n",
      "    \n",
      "    return five_squared"
     ],
     "language": "python",
     "metadata": {},
     "outputs": []
    },
    {
     "cell_type": "code",
     "collapsed": false,
     "input": [
      "print square_five()"
     ],
     "language": "python",
     "metadata": {},
     "outputs": []
    },
    {
     "cell_type": "code",
     "collapsed": false,
     "input": [
      "# Define an example function\n",
      "def square(x):\n",
      "    \"\"\"A simple example function to square a number\"\"\"\n",
      "    x_squared = x**2\n",
      "    \n",
      "    return x_squared"
     ],
     "language": "python",
     "metadata": {},
     "outputs": []
    },
    {
     "cell_type": "code",
     "collapsed": false,
     "input": [
      "# Call our function with some input\n",
      "print square(5), square(10)"
     ],
     "language": "python",
     "metadata": {},
     "outputs": []
    },
    {
     "cell_type": "heading",
     "level": 3,
     "metadata": {},
     "source": [
      "Positional arguments"
     ]
    },
    {
     "cell_type": "markdown",
     "metadata": {},
     "source": [
      "When a function has multiple arguments, the function call must provide those arguments in the right order (unless they're keyword arguments - we'll get to them in a minute). These are called positional arguments."
     ]
    },
    {
     "cell_type": "code",
     "collapsed": false,
     "input": [
      "# Define another function with two input arguments\n",
      "def power(x, pwr):\n",
      "    \"\"\"A simple example function to raise a number to the power of another number\"\"\"\n",
      "    x_to_pwr = x ** pwr\n",
      "    \n",
      "    return x_to_pwr"
     ],
     "language": "python",
     "metadata": {},
     "outputs": []
    },
    {
     "cell_type": "code",
     "collapsed": false,
     "input": [
      "# Call the function with some input\n",
      "print power(5, 2), power(5, 3)"
     ],
     "language": "python",
     "metadata": {},
     "outputs": []
    },
    {
     "cell_type": "code",
     "collapsed": false,
     "input": [
      "# Call the function again with arguments the other way around\n",
      "print power(2, 5)"
     ],
     "language": "python",
     "metadata": {},
     "outputs": []
    },
    {
     "cell_type": "heading",
     "level": 3,
     "metadata": {},
     "source": [
      "Keyword arguments"
     ]
    },
    {
     "cell_type": "markdown",
     "metadata": {},
     "source": [
      "Keyword arguments define a default value for a function argument. When calling the function, these can be omitted and the default value will be used."
     ]
    },
    {
     "cell_type": "code",
     "collapsed": false,
     "input": [
      "# Redefine the previous function making x and pwr keyword arguments with a default values of 5 and 2.\n",
      "def power(x=5, pwr=2):\n",
      "    \"\"\"Example function to raise a number to an optional power.\n",
      "    Default power is 2.\"\"\"\n",
      "    x_to_pwr = x ** pwr\n",
      "    \n",
      "    return x_to_pwr"
     ],
     "language": "python",
     "metadata": {},
     "outputs": []
    },
    {
     "cell_type": "code",
     "collapsed": false,
     "input": [
      "# Call the new function with default argument values\n",
      "print power(), power(x=6)"
     ],
     "language": "python",
     "metadata": {},
     "outputs": []
    },
    {
     "cell_type": "markdown",
     "metadata": {},
     "source": [
      "Keyword arguments can be given in any order as long as the keyword is also given. Otherwise they are just positional arguments and have to be given in the same order as in the function definition."
     ]
    },
    {
     "cell_type": "code",
     "collapsed": false,
     "input": [
      "# Call the function with keyword arguments in arbitrary order\n",
      "print power(pwr=3), power(pwr=3, x=6)"
     ],
     "language": "python",
     "metadata": {},
     "outputs": []
    },
    {
     "cell_type": "markdown",
     "metadata": {},
     "source": [
      "You can also mix keyword and positional arguments."
     ]
    },
    {
     "cell_type": "code",
     "collapsed": false,
     "input": [
      "# Call the function with both keyword and positional arguments\n",
      "print power(6,  pwr=3)"
     ],
     "language": "python",
     "metadata": {},
     "outputs": []
    },
    {
     "cell_type": "markdown",
     "metadata": {},
     "source": [
      "However, when doing this the positional arguments should always come before the keyword arguments."
     ]
    },
    {
     "cell_type": "code",
     "collapsed": false,
     "input": [
      "\n",
      "print power(pwr=3, 6)"
     ],
     "language": "python",
     "metadata": {},
     "outputs": []
    },
    {
     "cell_type": "heading",
     "level": 3,
     "metadata": {},
     "source": [
      "Challenges"
     ]
    },
    {
     "cell_type": "markdown",
     "metadata": {},
     "source": [
      "1. Define a function which takes as input a list and an integer. The function should return a new list containing all the items in the old list raised to the power of the integer. Give the integer argument a default value.\n",
      "2. Define a new function which converts an input temperature value from degrees Celcius to degrees Fahrenheit.\n",
      "3. Redefine this second function so that it takes the temperature unit of the original temperature as an additional input, with a default value of 'C'. Have the function return this temperature in Celius, Fahrenheit and Kelvins."
     ]
    },
    {
     "cell_type": "code",
     "collapsed": false,
     "input": [
      "# 1\n",
      "def list_to_power(xlist , pwr=2):\n",
      "    \"\"\"Raise every item in a list, xlist, to a given power.\n",
      "    Results are returned in a new list.\"\"\"\n",
      "    newlist = [x ** pwr for x in xlist]\n",
      "    \n",
      "    return newlist\n",
      "\n",
      "# Call this function\n",
      "print list_to_power(range(5)), list_to_power(range(0, 10, 2), pwr=3)"
     ],
     "language": "python",
     "metadata": {},
     "outputs": []
    },
    {
     "cell_type": "code",
     "collapsed": false,
     "input": [
      "# 2\n",
      "def convert_temp(t_celc):\n",
      "    \"\"\"Converts a temperature t_celc from degrees Celcius to degrees Fahrenheit\"\"\"\n",
      "    t_fahr = (9 * (t_celc / 5.0)) + 32\n",
      "    \n",
      "    return t_fahr\n",
      "\n",
      "print convert_temp(0), convert_temp(100), convert_temp(-273.15)"
     ],
     "language": "python",
     "metadata": {},
     "outputs": []
    },
    {
     "cell_type": "code",
     "collapsed": false,
     "input": [
      "# 3\n",
      "def convert_temp(t, unit='C'):\n",
      "    \"\"\"Converts a temperature t from degrees Celcius, degrees Fahrenheit or Kelvins to both of the other two\"\"\"\n",
      "    if unit == 'K':\n",
      "        t_kelv = t\n",
      "        t_celc = t_kelv + 273.15\n",
      "        t_fahr = (9 * (t_celc / 5.0)) + 32\n",
      "    elif unit == 'F':\n",
      "        t_fahr = t\n",
      "        t_celc = 5.0 * ((t_fahr - 32) / 9.0)\n",
      "        t_kelv = t_celc - 273.15\n",
      "    else:\n",
      "        t_celc = t\n",
      "        t_fahr = (9 * (t_celc / 5.0)) + 32\n",
      "        t_kelv = t_celc - 273.15\n",
      "    \n",
      "    return t_celc, t_fahr, t_kelv\n",
      "\n",
      "print convert_temp(0), convert_temp(32, 'F'), convert_temp(-273.15, unit='K')"
     ],
     "language": "python",
     "metadata": {},
     "outputs": []
    },
    {
     "cell_type": "heading",
     "level": 2,
     "metadata": {},
     "source": [
      "Object-Oriented Programming"
     ]
    },
    {
     "cell_type": "heading",
     "level": 3,
     "metadata": {},
     "source": [
      "Objectives"
     ]
    },
    {
     "cell_type": "markdown",
     "metadata": {},
     "source": [
      "- Understand what Python objects and instances are\n",
      "- Understand attributes and methods of objects\n",
      "- Understand the basic principles of inheritance\n",
      "- Create a class which inherits from another class"
     ]
    },
    {
     "cell_type": "markdown",
     "metadata": {},
     "source": [
      "Python is an object-oriented programming language. This means it uses objects, which are a way of grouping variables together. Objects have associated with them <i>attributes</i> and <i>methods</i>, and can be as complex as a really complex thing or as simple as a single number.\n",
      "\n",
      "Understanding OOP is not strictly necessary for Python unless you intend to write your own classes (types of object), because Python is specifically designed that way. However, EVERYTHING in Python is an object of some kind, so it is worth having a basic knowledge of OOP principles and terminology."
     ]
    },
    {
     "cell_type": "heading",
     "level": 3,
     "metadata": {},
     "source": [
      "Classes and Instances"
     ]
    },
    {
     "cell_type": "markdown",
     "metadata": {},
     "source": [
      "A class is a type of object, which is defined to have particular properties. An instance is an individual object of a class. For instance,"
     ]
    },
    {
     "cell_type": "code",
     "collapsed": false,
     "input": [
      "x = [1, 2, 3]"
     ],
     "language": "python",
     "metadata": {},
     "outputs": []
    },
    {
     "cell_type": "markdown",
     "metadata": {},
     "source": [
      "defines an object which is an instance of the list class, and binds that object to the name 'x'. This list object also contains three instances of the int type. When they are created, all list variables will have the properties of the list class - i.e.:, you can reference items in an array by indexing, add items using .append(), and so on, because these are written in to the class definition as things that lists can always do.\n",
      "\n",
      "The example above is fairly simple and uses built-in variable types, but classes can also be user-defined, and can be as complicated as you want them to be."
     ]
    },
    {
     "cell_type": "heading",
     "level": 3,
     "metadata": {},
     "source": [
      "Attributes and Methods"
     ]
    },
    {
     "cell_type": "markdown",
     "metadata": {},
     "source": [
      "Attributes are objects which are associated with another object. These can be simple variables - individual numbers, strings, etc. - or they can be complex objects in their own right, with their own attributes. Methods are simply object attributes which are functions. They can be used to change their parent object or its attributes in some way, or they can return information about the object, and so on. Attributes and methods are of an object are accessed using the syntax object_name.attribute . We have already seen this syntax when using list.append() in lesson 1. This is because append() is a method of list objects.\n",
      "\n",
      "Most classes define an \\_\\_init\\_\\_ method, which is called automatically when an instance of that class is created. This allows the user to provide unput to the new object, which is usually used to determine the object's attributes. Let's look at a class definition:"
     ]
    },
    {
     "cell_type": "code",
     "collapsed": false,
     "input": [
      "# Define a new kind of object\n",
      "class Animal():\n",
      "    \"\"\"Basic class which (vaguely) describes an animal.\"\"\"\n",
      "    def __init__(self, n_legs, warmblooded):\n",
      "        \"\"\"The function which initiates this class.\n",
      "        Takes an int and a bool as input and defines corresponding attributes.\"\"\"\n",
      "        self.n_legs = n_legs\n",
      "        self.warmblooded = warmblooded\n",
      "    \n",
      "    def printlegs(self):\n",
      "        print 'This creature has {} legs.'.format(self.n_legs)"
     ],
     "language": "python",
     "metadata": {},
     "outputs": []
    },
    {
     "cell_type": "markdown",
     "metadata": {},
     "source": [
      "Note that the syntax is again very similar to that of function definitions: a name declaration followed by parentheses and a colon, with the class contents indented. The parentheses are not strictly necessary at this point, but will be needed later, so they are included here for consistency. \n",
      "\n",
      "Also note that both the methods defined in the animal class take an argument called self. This argumant refers to the parent object of the methods, and allows the method to access and change other attributes of the object. When calling the method, this argument is passed automatically and does not need to be supplied by the user.\n",
      "\n",
      "An animal object can be created from the the Animal class above like this:"
     ]
    },
    {
     "cell_type": "code",
     "collapsed": false,
     "input": [
      "cat = Animal(4, True)"
     ],
     "language": "python",
     "metadata": {},
     "outputs": []
    },
    {
     "cell_type": "markdown",
     "metadata": {},
     "source": [
      "and the printlegs() method is called like this:"
     ]
    },
    {
     "cell_type": "code",
     "collapsed": false,
     "input": [
      "cat.printlegs()"
     ],
     "language": "python",
     "metadata": {},
     "outputs": []
    },
    {
     "cell_type": "heading",
     "level": 3,
     "metadata": {},
     "source": [
      "Inheritance"
     ]
    },
    {
     "cell_type": "markdown",
     "metadata": {},
     "source": [
      "A useful aspect of OOP is that classes can be defined such that they build upon the properties of another class. In this case the new class is said to _inherit_ from the base class. A common use for this feature is to take a class which is fairly generic and build a more specialised class from it. For example, we can create a new class based on the animal class above which more closely describes a particular type of animal:"
     ]
    },
    {
     "cell_type": "code",
     "collapsed": false,
     "input": [
      "class Mammal(Animal):\n",
      "    \"\"\"Class which describes an animal more specifically.\"\"\"\n",
      "    def __init__(self, n_legs):\n",
      "        \"\"\"The function which initiates this class.\"\"\"\n",
      "        warmblooded = True\n",
      "        Animal.__init__(self, n_legs, warmblooded)\n",
      "\n",
      "# Create a new instance of the Mammal class\n",
      "dog = Mammal(4)\n",
      "\n",
      "dog.printlegs()"
     ],
     "language": "python",
     "metadata": {},
     "outputs": []
    },
    {
     "cell_type": "markdown",
     "metadata": {},
     "source": [
      "Notice that we are able to call the printlegs method of dog even though it is not defined for the Mammal class, because it has inherited it from the Animal class.\n",
      "\n",
      "Classes can also inherit attributes from more than one base class, but this is more complicated and not worth covering here."
     ]
    },
    {
     "cell_type": "heading",
     "level": 3,
     "metadata": {},
     "source": [
      "Challenges"
     ]
    },
    {
     "cell_type": "markdown",
     "metadata": {},
     "source": [
      "1. Create a Human class which inherits from the Mammal class above. This class should:\n",
      " - automatically set the `n_legs` attribute to 2 in the `__init__` method;\n",
      " - have a new attribute, `name`, which is defined by the user when a new instance is created.\n",
      "\n",
      "2. Create a new instance of this of the Human class. Print its name and number of legs."
     ]
    },
    {
     "cell_type": "code",
     "collapsed": false,
     "input": [
      "#1\n",
      "class Human(Mammal):\n",
      "    \"\"\"A new type of Mammal, the Human.\n",
      "    This class has a name attribute in addition to warmblooded and n_legs.\"\"\"\n",
      "    def __init__(self, name):\n",
      "        Mammal.__init__(self, n_legs=2)\n",
      "        self.name = name"
     ],
     "language": "python",
     "metadata": {},
     "outputs": []
    },
    {
     "cell_type": "code",
     "collapsed": false,
     "input": [
      "# 2\n",
      "drew = Human('Drew')\n",
      "print drew.name\n",
      "drew.printlegs()"
     ],
     "language": "python",
     "metadata": {},
     "outputs": []
    },
    {
     "cell_type": "heading",
     "level": 2,
     "metadata": {},
     "source": [
      "Namespaces"
     ]
    },
    {
     "cell_type": "heading",
     "level": 3,
     "metadata": {},
     "source": [
      "Objectives"
     ]
    },
    {
     "cell_type": "markdown",
     "metadata": {},
     "source": [
      "- Understand the basic principles of how namespaces and scopes work in Python"
     ]
    },
    {
     "cell_type": "heading",
     "level": 3,
     "metadata": {},
     "source": [
      "Namespace principles"
     ]
    },
    {
     "cell_type": "markdown",
     "metadata": {},
     "source": [
      "Namespaces are another topic that you will typically not need to worry about at the level of this workshop. Again though, it is useful to have a basic understanding of the concept even though it may not significantly change how you write your code.\n",
      "\n",
      "A namespace is the mapping of names to objects. The set of built-in Python variables and functions is an example of a namespace. Modules have their own namespaces, as do functions, and the names defined within these namespaces are not accessable from outside.\n",
      "\n",
      "For instance, remember that the functions above defined a variable called `x_to_pwr`. But if we try to use this variable outside the function, we get an error telling us that it is undefined:"
     ]
    },
    {
     "cell_type": "code",
     "collapsed": false,
     "input": [
      "print x_to_pwr"
     ],
     "language": "python",
     "metadata": {},
     "outputs": []
    },
    {
     "cell_type": "markdown",
     "metadata": {},
     "source": [
      "This is because it is defined within the function's namespace, and does not exist outside that namespace.\n",
      "\n",
      "Similarly, the Mammal class from earlier defines a variable, `warmblooded`, and two functions, `__init__()` and `printlegs()`. Again, these are inaccessable from outside the namespaces of Mammal objects:"
     ]
    },
    {
     "cell_type": "code",
     "collapsed": false,
     "input": [
      "printlegs()"
     ],
     "language": "python",
     "metadata": {},
     "outputs": []
    },
    {
     "cell_type": "markdown",
     "metadata": {},
     "source": [
      "The difference here is that we can access the names defined in the namespace of an instance object. When we use the `object.attribute` syntax to get a variable, we are really retrieving the attribute from within the namespace of the object."
     ]
    },
    {
     "cell_type": "markdown",
     "metadata": {},
     "source": [
      "The names defined in the current namespace can be accessed using the `dir()` function:"
     ]
    },
    {
     "cell_type": "code",
     "collapsed": false,
     "input": [
      "dir()"
     ],
     "language": "python",
     "metadata": {},
     "outputs": []
    },
    {
     "cell_type": "markdown",
     "metadata": {},
     "source": [
      "`dir()` can also be passed an object as an argument, in which case it will print the names defined within the namespace of that object:"
     ]
    },
    {
     "cell_type": "code",
     "collapsed": false,
     "input": [
      "dir(dog)"
     ],
     "language": "python",
     "metadata": {},
     "outputs": []
    },
    {
     "cell_type": "markdown",
     "metadata": {},
     "source": [
      "When any new object is created, a new namespace is created for it at the same time. This means that although different instances of the same class define the same names, they are within separate namespaces and do not interfere with each other. Similarly, a new namespace is created for a function every time it is called, so variables used within functions are not effected by previous calls to the same function."
     ]
    },
    {
     "cell_type": "heading",
     "level": 3,
     "metadata": {},
     "source": [
      "Scopes"
     ]
    },
    {
     "cell_type": "markdown",
     "metadata": {},
     "source": [
      "Closely related to the topic of namespaces is that of scopes. A scope is the part of a Python code where a particular namespace is directly accessible - i.e., that namespace will be checked for a variable that is referenced. Scopes can be nested, and if a name is not found in the 'innermost' scope, Python will search upwards through other scopes until it runs out or the name is found.\n",
      "\n",
      "The innermost scope contains the names defined locally. 'Locally' here means at the same level as the reference to the name - the same function, class, module or script, whicever is the most nested structure.\n",
      "\n",
      "After checking the locally defined names, Python will search the scopes of any enclosing functions or classes, which define names which are not local but are not global either. These are searched starting with the nearest enclosing scope and moving outwards.\n",
      "\n",
      "Next, Python will check the current module's global names, and finally the namespace of built-in Python names."
     ]
    },
    {
     "cell_type": "markdown",
     "metadata": {},
     "source": [
      "Variables defined outside the innermost scope are read-only unless defined as global - redefining a variable from another scope will simply create a new variable and leave the other unchanged within its own scope."
     ]
    }
   ],
   "metadata": {}
  }
 ]
}