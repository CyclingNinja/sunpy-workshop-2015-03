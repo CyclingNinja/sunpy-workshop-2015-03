{
 "metadata": {
  "name": "",
  "signature": "sha256:6c4bcf88d3a78afbf09f31f731324e706a1274a99bdfcbb343ab7a680f21181e"
 },
 "nbformat": 3,
 "nbformat_minor": 0,
 "worksheets": [
  {
   "cells": [
    {
     "cell_type": "heading",
     "level": 3,
     "metadata": {},
     "source": [
      "Python basics 2"
     ]
    },
    {
     "cell_type": "heading",
     "level": 2,
     "metadata": {},
     "source": [
      "Object-Oriented Programming"
     ]
    },
    {
     "cell_type": "heading",
     "level": 3,
     "metadata": {},
     "source": [
      "Objectives"
     ]
    },
    {
     "cell_type": "markdown",
     "metadata": {},
     "source": [
      "- Understand what Python objects and instances are\n",
      "- Understand attributes and methods of objects\n",
      "- Understand the basic principles of inheritance"
     ]
    },
    {
     "cell_type": "markdown",
     "metadata": {},
     "source": [
      "Python is an object-oriented programming language. This means it uses objects, which are a way of grouping variables together. Objects have associated with them <i>attributes</i> and <i>methods</i>, and can be as complex as a really complex thing or as simple as a single number.\n",
      "\n",
      "Understanding OOP is not strictly necessary for Python unless you intend to write your own classes (types of object), because Python is specifically designed that way. However, EVERYTHING in Python is an object of some kind, so it is worth having a basic knowledge of OOP principles and terminology."
     ]
    },
    {
     "cell_type": "heading",
     "level": 3,
     "metadata": {},
     "source": [
      "Classes and Instances"
     ]
    },
    {
     "cell_type": "code",
     "collapsed": false,
     "input": [],
     "language": "python",
     "metadata": {},
     "outputs": []
    },
    {
     "cell_type": "heading",
     "level": 3,
     "metadata": {},
     "source": [
      "Attributes"
     ]
    },
    {
     "cell_type": "heading",
     "level": 3,
     "metadata": {},
     "source": [
      "Methods"
     ]
    },
    {
     "cell_type": "heading",
     "level": 3,
     "metadata": {},
     "source": [
      "Inheritance"
     ]
    },
    {
     "cell_type": "heading",
     "level": 2,
     "metadata": {},
     "source": [
      "Functions"
     ]
    },
    {
     "cell_type": "heading",
     "level": 3,
     "metadata": {},
     "source": [
      "Objectives"
     ]
    },
    {
     "cell_type": "markdown",
     "metadata": {},
     "source": [
      "- Define a function that takes some input\n",
      "- Return a value from a function\n",
      "- Set default values for function parameters"
     ]
    },
    {
     "cell_type": "heading",
     "level": 3,
     "metadata": {},
     "source": [
      "Definition"
     ]
    },
    {
     "cell_type": "markdown",
     "metadata": {},
     "source": [
      "A function definition in Python has four parts: \n",
      "- definition of the function name and arguments\n",
      "- a docstring - optional, but strongly recommended!\n",
      "- function contents\n",
      "- return statement - also optional, but necessary for the function to give output\n",
      "\n",
      "These components are arranged in a very similar way to loops and if statements."
     ]
    },
    {
     "cell_type": "code",
     "collapsed": false,
     "input": [
      "def function_name(arg1, arg2, arg3): # Function name and argument(s) definition. Note the colon.\n",
      "    \"\"\"Optional docstring. This should describe what the function does and what the input should be.\n",
      "    This string will be displayed when you call help(function_name) and in some  help interfaces.\"\"\"\n",
      "    \n",
      "    # Function contents.\n",
      "    # Just the code that does what you want the function to do.\n",
      "    # Note the indentation, as with loops and ifs.\n",
      "    \n",
      "    return # Optional return statement. Exits the function immediately and returns the given variable(s) to the main code"
     ],
     "language": "python",
     "metadata": {},
     "outputs": []
    },
    {
     "cell_type": "markdown",
     "metadata": {},
     "source": [
      "If the return statement is omitted, or is present but with no variables, the output of the function is None. Otherwise, it returns any variables given to the main code.\n",
      "\n",
      "Since output from the function is dealt with by the return statement, arguments only need to specify input. Functions can have any number of arguments, including none."
     ]
    },
    {
     "cell_type": "code",
     "collapsed": false,
     "input": [
      "# Define an example function which returns the square of 5 and takes no input.\n",
      "def square_five():\n",
      "    \"\"\"A simple example function to square the number five\"\"\"\n",
      "    five_squared = 5 ** 2\n",
      "    \n",
      "    return five_squared"
     ],
     "language": "python",
     "metadata": {},
     "outputs": []
    },
    {
     "cell_type": "code",
     "collapsed": false,
     "input": [
      "print square_five()"
     ],
     "language": "python",
     "metadata": {},
     "outputs": []
    },
    {
     "cell_type": "code",
     "collapsed": false,
     "input": [
      "# Define an example function\n",
      "def square(x):\n",
      "    \"\"\"A simple example function to square a number\"\"\"\n",
      "    x_squared = x**2\n",
      "    \n",
      "    return x_squared"
     ],
     "language": "python",
     "metadata": {},
     "outputs": []
    },
    {
     "cell_type": "code",
     "collapsed": false,
     "input": [
      "# Call our function with some input\n",
      "print square(5), square(10)"
     ],
     "language": "python",
     "metadata": {},
     "outputs": []
    },
    {
     "cell_type": "heading",
     "level": 3,
     "metadata": {},
     "source": [
      "Positional arguments"
     ]
    },
    {
     "cell_type": "markdown",
     "metadata": {},
     "source": [
      "When a function has multiple arguments, the function call must provide those arguments in the right order (unless they're keyword arguments - we'll get to them in a minute). These are called positional arguments."
     ]
    },
    {
     "cell_type": "code",
     "collapsed": false,
     "input": [
      "# Define another function with two input arguments\n",
      "def power(x, pwr):\n",
      "    \"\"\"A simple example function to raise a number to the power of another number\"\"\"\n",
      "    x_to_pwr = x ** pwr\n",
      "    \n",
      "    return x_to_pwr"
     ],
     "language": "python",
     "metadata": {},
     "outputs": []
    },
    {
     "cell_type": "code",
     "collapsed": false,
     "input": [
      "# Call the function with some input\n",
      "print power(5, 2), power(5, 3)"
     ],
     "language": "python",
     "metadata": {},
     "outputs": []
    },
    {
     "cell_type": "code",
     "collapsed": false,
     "input": [
      "# Call the function again with arguments the other way around\n",
      "print power(2, 5)"
     ],
     "language": "python",
     "metadata": {},
     "outputs": []
    },
    {
     "cell_type": "heading",
     "level": 3,
     "metadata": {},
     "source": [
      "Keyword arguments"
     ]
    },
    {
     "cell_type": "markdown",
     "metadata": {},
     "source": [
      "Keyword arguments define a default value for a function argument. When calling the function, these can be omitted and the default value will be used."
     ]
    },
    {
     "cell_type": "code",
     "collapsed": false,
     "input": [
      "# Redefine the previous function making x and pwr keyword arguments with a default values of 5 and 2.\n",
      "def power(x=5, pwr=2):\n",
      "    \"\"\"Example function to raise a number to an optional power.\n",
      "    Default power is 2.\"\"\"\n",
      "    x_to_pwr = x ** pwr\n",
      "    \n",
      "    return x_to_pwr"
     ],
     "language": "python",
     "metadata": {},
     "outputs": []
    },
    {
     "cell_type": "code",
     "collapsed": false,
     "input": [
      "# Call the new function with default argument values\n",
      "print power(), power(x=6)"
     ],
     "language": "python",
     "metadata": {},
     "outputs": []
    },
    {
     "cell_type": "markdown",
     "metadata": {},
     "source": [
      "Keyword arguments can be given in any order as long as the keyword is also given. Otherwise they are just positional arguments and have to be given in the same order as in the function definition."
     ]
    },
    {
     "cell_type": "code",
     "collapsed": false,
     "input": [
      "# Call the function with keyword arguments in arbitrary order\n",
      "print power(pwr=3), power(pwr=3, x=6)"
     ],
     "language": "python",
     "metadata": {},
     "outputs": []
    },
    {
     "cell_type": "markdown",
     "metadata": {},
     "source": [
      "You can also mix keyword and positional arguments."
     ]
    },
    {
     "cell_type": "code",
     "collapsed": false,
     "input": [
      "# Call the function with both keyword and positional arguments\n",
      "print power(6,  pwr=3)"
     ],
     "language": "python",
     "metadata": {},
     "outputs": []
    },
    {
     "cell_type": "markdown",
     "metadata": {},
     "source": [
      "However, when doing this the positional arguments should always come before the keyword arguments."
     ]
    },
    {
     "cell_type": "code",
     "collapsed": false,
     "input": [
      "\n",
      "print power(pwr=3, 6)"
     ],
     "language": "python",
     "metadata": {},
     "outputs": []
    },
    {
     "cell_type": "heading",
     "level": 3,
     "metadata": {},
     "source": [
      "Challenges"
     ]
    },
    {
     "cell_type": "markdown",
     "metadata": {},
     "source": [
      "1. Define a function which takes as input a list and an integer. The function should return a new list containing all the items in the old list raised to the power of the integer. Give the integer argument a default value.\n",
      "2. Define a new function which converts an input temperature value from degrees Celcius to degrees Fahrenheit.\n",
      "3. Redefine this second function so that it takes the temperature unit of the original temperature as an additional input, with a default value of 'C'. Have the function return this temperature in Celius, Fahrenheit and Kelvins."
     ]
    },
    {
     "cell_type": "code",
     "collapsed": false,
     "input": [
      "# 1\n",
      "def list_to_power(xlist , pwr=2):\n",
      "    \"\"\"Raise every item in a list, xlist, to a given power.\n",
      "    Results are returned in a new list.\"\"\"\n",
      "    newlist = [x ** pwr for x in xlist]\n",
      "    \n",
      "    return newlist\n",
      "\n",
      "# Call this function\n",
      "print list_to_power(range(5)), list_to_power(range(0, 10, 2), pwr=3)"
     ],
     "language": "python",
     "metadata": {},
     "outputs": []
    },
    {
     "cell_type": "code",
     "collapsed": false,
     "input": [
      "# 2\n",
      "def convert_temp(t_celc):\n",
      "    \"\"\"Converts a temperature t_celc from degrees Celcius to degrees Fahrenheit\"\"\"\n",
      "    t_fahr = (9 * (t_celc / 5.0)) + 32\n",
      "    \n",
      "    return t_fahr\n",
      "\n",
      "print convert_temp(0), convert_temp(100), convert_temp(-273.15)"
     ],
     "language": "python",
     "metadata": {},
     "outputs": []
    },
    {
     "cell_type": "code",
     "collapsed": false,
     "input": [
      "# 3\n",
      "def convert_temp(t, unit='C'):\n",
      "    \"\"\"Converts a temperature t from degrees Celcius, degrees Fahrenheit or Kelvins to both of the other two\"\"\"\n",
      "    if unit == 'K':\n",
      "        t_kelv = t\n",
      "        t_celc = t_kelv + 273.15\n",
      "        t_fahr = (9 * (t_celc / 5.0)) + 32\n",
      "    elif unit == 'F':\n",
      "        t_fahr = t\n",
      "        t_celc = 5.0 * ((t_fahr - 32) / 9.0)\n",
      "        t_kelv = t_celc - 273.15\n",
      "    else:\n",
      "        t_celc = t\n",
      "        t_fahr = (9 * (t_celc / 5.0)) + 32\n",
      "        t_kelv = t_celc - 273.15\n",
      "    \n",
      "    return t_celc, t_fahr, t_kelv\n",
      "\n",
      "print convert_temp(0), convert_temp(32, 'F'), convert_temp(-273.15, unit='K')"
     ],
     "language": "python",
     "metadata": {},
     "outputs": []
    },
    {
     "cell_type": "heading",
     "level": 2,
     "metadata": {},
     "source": [
      "Namespaces"
     ]
    },
    {
     "cell_type": "heading",
     "level": 3,
     "metadata": {},
     "source": [
      "Objectives"
     ]
    }
   ],
   "metadata": {}
  }
 ]
}